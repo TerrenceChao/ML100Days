{
 "cells": [
  {
   "cell_type": "code",
   "execution_count": 2,
   "metadata": {},
   "outputs": [],
   "source": [
    "import numpy as np"
   ]
  },
  {
   "cell_type": "code",
   "execution_count": 92,
   "metadata": {},
   "outputs": [
    {
     "data": {
      "text/plain": [
       "30.0"
      ]
     },
     "execution_count": 92,
     "metadata": {},
     "output_type": "execute_result"
    }
   ],
   "source": [
    "#1.正常的談話的聲壓為20000微巴斯卡，請問多少分貝?\n",
    "#請寫下程式\n",
    "V1 = 6324.55532033676\n",
    "V0 = 20\n",
    "\n",
    "dB = 20 * np.log10(V1/V0)\n",
    "dB"
   ]
  },
  {
   "cell_type": "code",
   "execution_count": 90,
   "metadata": {},
   "outputs": [
    {
     "name": "stdout",
     "output_type": "stream",
     "text": [
      "V1 632.4555320336759 \n",
      "\n",
      "V2 6324.55532033676 \n",
      "\n",
      "0.09999999999999999\n"
     ]
    }
   ],
   "source": [
    "#2.30分貝的聲壓會是50分貝的幾倍?\n",
    "#公式移項過後可以得到 V1 = ?\n",
    "#請寫下程式\n",
    "V1 = np.power(10, 30 / 20 + np.log10(20))\n",
    "print('V1', V1, '\\n')\n",
    "\n",
    "V2 = np.power(10, 50 / 20 + np.log10(20))\n",
    "print('V2', V2, '\\n')\n",
    "\n",
    "print(V1/V2)"
   ]
  },
  {
   "cell_type": "code",
   "execution_count": 32,
   "metadata": {},
   "outputs": [
    {
     "name": "stdout",
     "output_type": "stream",
     "text": [
      "[[0.02       0.33333333]\n",
      " [0.6        0.66666667]]\n",
      "[[-1.          0.30103   ]\n",
      " [ 0.47712125  0.60205999]]\n",
      "[[-1.          0.30103   ]\n",
      " [ 0.47712125  0.60205999]]\n"
     ]
    }
   ],
   "source": [
    "a = [[0.1,2],\n",
    "     [3,4]]\n",
    "b = [5,6]\n",
    "c = np.divide(a,b)\n",
    "print(c)\n",
    "\n",
    "d = np.log10(a) # log, log2, log10,   # log1p 就不清楚了\n",
    "print(d)\n",
    "\n",
    "d = np.log10(a)\n",
    "print(d)"
   ]
  },
  {
   "cell_type": "code",
   "execution_count": 43,
   "metadata": {},
   "outputs": [
    {
     "name": "stdout",
     "output_type": "stream",
     "text": [
      "[[[ 5 12]\n",
      "  [15 24]]\n",
      "\n",
      " [[25 36]\n",
      "  [35 48]]]\n"
     ]
    },
    {
     "data": {
      "text/plain": [
       "2.718281828459045"
      ]
     },
     "execution_count": 43,
     "metadata": {},
     "output_type": "execute_result"
    }
   ],
   "source": [
    "a = [\n",
    "    [[1,2],\n",
    "     [3,4]],\n",
    "    [[5,6],\n",
    "     [7,8]]\n",
    "]\n",
    "b = [5,6]\n",
    "c = np.multiply(a, b)\n",
    "print(c)\n",
    "\n",
    "np.e"
   ]
  },
  {
   "cell_type": "code",
   "execution_count": 46,
   "metadata": {},
   "outputs": [
    {
     "data": {
      "text/plain": [
       "array([1.        , 2.71828183, 7.3890561 ])"
      ]
     },
     "execution_count": 46,
     "metadata": {},
     "output_type": "execute_result"
    }
   ],
   "source": [
    "np.exp(np.arange(3))"
   ]
  },
  {
   "cell_type": "code",
   "execution_count": 49,
   "metadata": {},
   "outputs": [
    {
     "data": {
      "text/plain": [
       "array([[[ True,  True],\n",
       "        [ True,  True]],\n",
       "\n",
       "       [[ True,  True],\n",
       "        [ True, False]]])"
      ]
     },
     "execution_count": 49,
     "metadata": {},
     "output_type": "execute_result"
    }
   ],
   "source": [
    "a = [\n",
    "    [[1,-2],\n",
    "     [3,-4]],\n",
    "    [[5,-6],\n",
    "     [7,-8]]\n",
    "]\n",
    "\n",
    "b = [\n",
    "    [[1,-2],\n",
    "     [3,-4]],\n",
    "    [[5,-6],\n",
    "     [7,9]]\n",
    "]\n",
    "\n",
    "\n",
    "np.abs(a) == np.abs(b)"
   ]
  },
  {
   "cell_type": "code",
   "execution_count": 70,
   "metadata": {},
   "outputs": [
    {
     "name": "stdout",
     "output_type": "stream",
     "text": [
      "[[ 7 16]\n",
      " [21 32]\n",
      " [35 48]] \n",
      "\n",
      "[[ 35 160]\n",
      " [105 320]\n",
      " [175 480]] \n",
      "\n"
     ]
    }
   ],
   "source": [
    "a = [[1,2],\n",
    "     [3,4],\n",
    "     [5,6],\n",
    "    ]\n",
    "b = [7,8]\n",
    "c = [\n",
    "    5,10\n",
    "]\n",
    "d = np.multiply(a, b)\n",
    "print(d, '\\n')\n",
    "e = np.multiply(d, c)\n",
    "print(e, '\\n')"
   ]
  },
  {
   "cell_type": "code",
   "execution_count": 73,
   "metadata": {},
   "outputs": [
    {
     "name": "stdout",
     "output_type": "stream",
     "text": [
      "['JUSTIN', 'CATERPILLAR', 'OPENHOME']\n",
      "[6, 11, 8]\n",
      "True\n"
     ]
    }
   ],
   "source": [
    "def map_lt(mapper, lt):\n",
    "    result = []\n",
    "    for ele in lt:\n",
    "        result.append(mapper(ele))\n",
    "    return result\n",
    "\n",
    "lt = ['Justin', 'caterpillar', 'openhome']\n",
    "print(map_lt(lambda ele: ele.upper(), lt))\n",
    "print(map_lt(lambda ele: len(ele), lt))\n",
    "print(type(map_lt(lambda ele: len(ele), lt)) is list)"
   ]
  },
  {
   "cell_type": "code",
   "execution_count": 81,
   "metadata": {},
   "outputs": [
    {
     "data": {
      "text/plain": [
       "True"
      ]
     },
     "execution_count": 81,
     "metadata": {},
     "output_type": "execute_result"
    }
   ],
   "source": [
    "type(np.random.randint(1, 10, 20)) is list"
   ]
  },
  {
   "cell_type": "code",
   "execution_count": 82,
   "metadata": {},
   "outputs": [
    {
     "data": {
      "text/plain": [
       "True"
      ]
     },
     "execution_count": 82,
     "metadata": {},
     "output_type": "execute_result"
    }
   ],
   "source": [
    "type(np.random.randint(1, 10, 20)) is np.ndarray"
   ]
  },
  {
   "cell_type": "code",
   "execution_count": 85,
   "metadata": {},
   "outputs": [
    {
     "data": {
      "text/plain": [
       "-2.0"
      ]
     },
     "execution_count": 85,
     "metadata": {},
     "output_type": "execute_result"
    }
   ],
   "source": [
    "np.log10(0.01)"
   ]
  },
  {
   "cell_type": "code",
   "execution_count": null,
   "metadata": {},
   "outputs": [],
   "source": []
  }
 ],
 "metadata": {
  "kernelspec": {
   "display_name": "Python 3",
   "language": "python",
   "name": "python3"
  },
  "language_info": {
   "codemirror_mode": {
    "name": "ipython",
    "version": 3
   },
   "file_extension": ".py",
   "mimetype": "text/x-python",
   "name": "python",
   "nbconvert_exporter": "python",
   "pygments_lexer": "ipython3",
   "version": "3.8.5"
  }
 },
 "nbformat": 4,
 "nbformat_minor": 4
}
