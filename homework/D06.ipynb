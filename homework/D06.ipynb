{
 "cells": [
  {
   "cell_type": "code",
   "execution_count": 1,
   "metadata": {},
   "outputs": [],
   "source": [
    "import numpy as np"
   ]
  },
  {
   "cell_type": "code",
   "execution_count": 12,
   "metadata": {},
   "outputs": [
    {
     "data": {
      "text/plain": [
       "array([2, 3, 5])"
      ]
     },
     "execution_count": 12,
     "metadata": {},
     "output_type": "execute_result"
    }
   ],
   "source": [
    "#1. 將下兩列array存成npz檔\n",
    "array1 = np.array(range(30))\n",
    "array2 = np.array([2,3,5])\n",
    "\n",
    "with open('save_2_arys.npz', 'wb') as f:\n",
    "    np.savez(f, aryA = array1, aryB = array2)\n",
    "    "
   ]
  },
  {
   "cell_type": "code",
   "execution_count": 87,
   "metadata": {},
   "outputs": [
    {
     "name": "stdout",
     "output_type": "stream",
     "text": [
      "aryA [ 0  1  2  3  4  5  6  7  8  9 10 11 12 13 14 15 16 17 18 19 20 21 22 23\n",
      " 24 25 26 27 28 29]\n",
      "aryB [2 3 5]\n",
      "array1 [0 1 2 3 4 5 6 7 8 9]\n",
      "array2 [1 2 3]\n",
      "array3 [0.5788873  0.69082947 0.04922545 0.86517602 0.29889969 0.55285575\n",
      " 0.69389689 0.49183867 0.8308363  0.06454569]\n"
     ]
    }
   ],
   "source": [
    "#2. 讀取剛剛的npz檔，加入下列array一起存成新的npz檔\n",
    "# sol 1\n",
    "part1 = np.load('save_2_arys.npz') # ['aryA', 'aryB']\n",
    "part2 = np.load('multi_array.npz')\n",
    "\n",
    "new_parts = dict(part1)\n",
    "for ary_name in part2.files:\n",
    "    new_parts[ary_name] = part2[ary_name]\n",
    "  \n",
    "# print(new_parts)\n",
    "\n",
    "with open('new_multi_arys.npz', 'wb') as f:\n",
    "    np.savez(f, **new_parts)\n",
    "        \n",
    "new_multi_arys = np.load('new_multi_arys.npz')\n",
    "for key in new_multi_arys.files:\n",
    "    print(key, new_multi_arys[key])"
   ]
  },
  {
   "cell_type": "code",
   "execution_count": 88,
   "metadata": {},
   "outputs": [
    {
     "name": "stdout",
     "output_type": "stream",
     "text": [
      "{'aryA': array([ 0,  1,  2,  3,  4,  5,  6,  7,  8,  9, 10, 11, 12, 13, 14, 15, 16,\n",
      "       17, 18, 19, 20, 21, 22, 23, 24, 25, 26, 27, 28, 29]), 'aryB': array([2, 3, 5]), 'array1': array([0, 1, 2, 3, 4, 5, 6, 7, 8, 9]), 'array2': array([1, 2, 3]), 'array3': array([0.5788873 , 0.69082947, 0.04922545, 0.86517602, 0.29889969,\n",
      "       0.55285575, 0.69389689, 0.49183867, 0.8308363 , 0.06454569])}\n",
      "aryA [ 0  1  2  3  4  5  6  7  8  9 10 11 12 13 14 15 16 17 18 19 20 21 22 23\n",
      " 24 25 26 27 28 29]\n",
      "aryB [2 3 5]\n",
      "array1 [0 1 2 3 4 5 6 7 8 9]\n",
      "array2 [1 2 3]\n",
      "array3 [0.5788873  0.69082947 0.04922545 0.86517602 0.29889969 0.55285575\n",
      " 0.69389689 0.49183867 0.8308363  0.06454569]\n"
     ]
    }
   ],
   "source": [
    "#2. 讀取剛剛的npz檔，加入下列array一起存成新的npz檔\n",
    "# sol 2\n",
    "part1 = np.load('save_2_arys.npz')\n",
    "part2 = np.load('multi_array.npz')\n",
    "\n",
    "part1 = dict(part1)\n",
    "part2 = dict(part2)\n",
    "\n",
    "new_part = part1.update(part2)\n",
    "  \n",
    "print(new_parts)\n",
    "\n",
    "with open('new_multi_arys.npz', 'wb') as f:\n",
    "    np.savez(f, **new_parts)\n",
    "        \n",
    "new_multi_arys = np.load('new_multi_arys.npz')\n",
    "for key in new_multi_arys.files:\n",
    "    print(key, new_multi_arys[key])"
   ]
  },
  {
   "cell_type": "code",
   "execution_count": null,
   "metadata": {},
   "outputs": [],
   "source": []
  },
  {
   "cell_type": "code",
   "execution_count": 3,
   "metadata": {},
   "outputs": [
    {
     "data": {
      "text/plain": [
       "array([1, 2])"
      ]
     },
     "execution_count": 3,
     "metadata": {},
     "output_type": "execute_result"
    }
   ],
   "source": [
    "with open('one_array.npy', 'wb') as f:\n",
    "    np.save(f, np.array([1, 2]))\n",
    "    \n",
    "np.load('one_array.npy')"
   ]
  },
  {
   "cell_type": "code",
   "execution_count": 8,
   "metadata": {},
   "outputs": [
    {
     "name": "stdout",
     "output_type": "stream",
     "text": [
      "<class 'numpy.lib.npyio.NpzFile'>\n",
      "[0 1 2 3 4 5 6 7 8 9]\n",
      "[1 2 3]\n",
      "[0.98655823 0.68671685 0.4312876  0.86973333 0.19622295 0.21114048\n",
      " 0.05645112 0.27710756 0.43560955 0.73116032]\n"
     ]
    }
   ],
   "source": [
    "x = np.arange(10)\n",
    "y = np.array([1,2,3])\n",
    "z = np.random.rand(10)\n",
    "\n",
    "with open('mutli_array.npz', 'wb') as f:\n",
    "    np.savez(f, ary1=x, ary2=y, aryC=z)\n",
    "    \n",
    "npzfile = np.load('mutli_array.npz')\n",
    "print( type(npzfile)  )\n",
    "\n",
    "print(npzfile['ary1'])\n",
    "print(npzfile['ary2'])\n",
    "print(npzfile['aryC'])"
   ]
  },
  {
   "cell_type": "code",
   "execution_count": 9,
   "metadata": {},
   "outputs": [],
   "source": [
    "# save as .txt\n",
    "\n",
    "x = np.arange(10)\n",
    "y = np.array([1,2,3])\n",
    "z = np.random.rand(10)\n",
    "\n",
    "np.savetxt('test.out', x, fmt='%1.4e', delimiter=',', header='this is, \\nheader', footer='this is footer')"
   ]
  },
  {
   "cell_type": "code",
   "execution_count": null,
   "metadata": {},
   "outputs": [],
   "source": []
  }
 ],
 "metadata": {
  "kernelspec": {
   "display_name": "Python 3",
   "language": "python",
   "name": "python3"
  },
  "language_info": {
   "codemirror_mode": {
    "name": "ipython",
    "version": 3
   },
   "file_extension": ".py",
   "mimetype": "text/x-python",
   "name": "python",
   "nbconvert_exporter": "python",
   "pygments_lexer": "ipython3",
   "version": "3.8.5"
  }
 },
 "nbformat": 4,
 "nbformat_minor": 4
}
