{
 "cells": [
  {
   "cell_type": "code",
   "execution_count": 99,
   "metadata": {},
   "outputs": [
    {
     "name": "stdout",
     "output_type": "stream",
     "text": [
      "[ 0  1  2  3  4  5  6  7  8  9 10 11 12 13 14 15 16 17 18 20] \n",
      "\n",
      "[ 0  2  4  6  8 10 12 14 16 18 20] \n",
      "\n",
      "[ 3  6  9 12 15 18] \n",
      "\n"
     ]
    }
   ],
   "source": [
    "# homework\n",
    "import numpy as np\n",
    "\n",
    "ans1 = np.linspace(0, 20, 20, dtype='int8')\n",
    "print(ans1, '\\n')\n",
    "\n",
    "ans2 = np.linspace(0, 20, 11, endpoint=True, dtype='uint8')\n",
    "print(ans2, '\\n')\n",
    "\n",
    "ans3 = np.arange(20)[3::3]\n",
    "print(ans3, '\\n')"
   ]
  },
  {
   "cell_type": "code",
   "execution_count": null,
   "metadata": {},
   "outputs": [],
   "source": [
    "# practice"
   ]
  },
  {
   "cell_type": "code",
   "execution_count": null,
   "metadata": {},
   "outputs": [],
   "source": [
    "import numpy as np\n",
    "np.__version__"
   ]
  },
  {
   "cell_type": "code",
   "execution_count": null,
   "metadata": {
    "scrolled": false
   },
   "outputs": [],
   "source": [
    "# a = np.array([1,2,3,4,5])\n",
    "# a\n",
    "# b = np.array((6,7,8))\n",
    "# b\n",
    "# type(a),  type(b)\n",
    "\n",
    "print (np.arange(5))\n",
    "print (np.arange(5,10))\n",
    "np.arange(5, 100, 10, dtype='uint8')"
   ]
  },
  {
   "cell_type": "code",
   "execution_count": null,
   "metadata": {},
   "outputs": [],
   "source": [
    "# 當在 arange() 使用非整數的間隔值時，有可能會產生不一致的結果，如下例會有時會包含結束值但有時候不會。\n",
    "# 這時候可以考慮使用 linspace() 函式。\n",
    "a = np.arange(0.13, 0.16, step=0.01)\n",
    "print(\"沒有包含結束值： \", a)\n",
    "b = np.arange(0.12, 0.16, step=0.01)\n",
    "print(\"包含結束值：    \", b)"
   ]
  },
  {
   "cell_type": "code",
   "execution_count": null,
   "metadata": {
    "scrolled": true
   },
   "outputs": [],
   "source": [
    "np.linspace(2, 11, 4, retstep=True, endpoint=False, axis=0)"
   ]
  },
  {
   "cell_type": "code",
   "execution_count": null,
   "metadata": {},
   "outputs": [],
   "source": [
    "# 1.3 建立多維陣列\n",
    "a = np.array([[1, 2, 3], [4, 5, 6]])\n",
    "print(a, '\\n')\n",
    "print(a.shape, '\\n')\n",
    "print(a.ndim, '\\n')"
   ]
  },
  {
   "cell_type": "code",
   "execution_count": null,
   "metadata": {},
   "outputs": [],
   "source": [
    "print(np.zeros([5,3]), '\\n')\n",
    "print(np.ones([2,3,3,5]), '\\n')\n",
    "print(np.empty([2,3]), '\\n')"
   ]
  },
  {
   "cell_type": "code",
   "execution_count": 79,
   "metadata": {},
   "outputs": [
    {
     "name": "stdout",
     "output_type": "stream",
     "text": [
      "[[ 1.78862847  0.43650985  0.09649747]\n",
      " [-1.8634927  -0.2773882  -0.35475898]] \n",
      "\n",
      "[[-0.08274148 -0.62700068 -0.04381817]\n",
      " [-0.47721803 -1.31386475  0.88462238]] \n",
      "\n",
      "[[ 0.88131804  1.70957306  0.05003364]\n",
      " [-0.40467741 -0.54535995 -1.54647732]] \n",
      "\n",
      "[[ 0.98236743 -1.10106763 -1.18504653]\n",
      " [-0.2056499   1.48614836  0.23671627]] \n",
      "\n"
     ]
    }
   ],
   "source": [
    "# 1.5 使用隨機函式產生陣列的元素\n",
    "np.random.seed(3)\n",
    "for i in np.arange(4):\n",
    "    print(np.random.randn(2, 3), '\\n')"
   ]
  },
  {
   "cell_type": "code",
   "execution_count": 82,
   "metadata": {},
   "outputs": [
    {
     "data": {
      "image/png": "[encoded data removed]",
      "text/plain": [
       "<Figure size 432x288 with 1 Axes>"
      ]
     },
     "metadata": {
      "needs_background": "light"
     },
     "output_type": "display_data"
    }
   ],
   "source": [
    "# matplotlib inline\n",
    "\n",
    "import matplotlib.pyplot as plt\n",
    "import scipy.special as sps\n",
    "\n",
    "\n",
    "shape, scale = 2., 2.  # mean=4, std=2*sqrt(2)\n",
    "s = np.random.gamma(shape, scale, 1000)\n",
    "\n",
    "\n",
    "count, bins, ignored = plt.hist(s, 50, density=True)\n",
    "y = bins**(shape-1)*(np.exp(-bins/scale) /\n",
    "                     (sps.gamma(shape)*scale**shape))\n",
    "plt.plot(bins, y, linewidth=2, color='r')\n",
    "plt.show()"
   ]
  },
  {
   "cell_type": "code",
   "execution_count": 88,
   "metadata": {},
   "outputs": [
    {
     "name": "stdout",
     "output_type": "stream",
     "text": [
      "[20 30 40 50]\n"
     ]
    }
   ],
   "source": [
    "ary = np.arange(100)\n",
    "print(ary[20:60:10])"
   ]
  }
 ],
 "metadata": {
  "kernelspec": {
   "display_name": "Python 3",
   "language": "python",
   "name": "python3"
  },
  "language_info": {
   "codemirror_mode": {
    "name": "ipython",
    "version": 3
   },
   "file_extension": ".py",
   "mimetype": "text/x-python",
   "name": "python",
   "nbconvert_exporter": "python",
   "pygments_lexer": "ipython3",
   "version": "3.8.5"
  }
 },
 "nbformat": 4,
 "nbformat_minor": 4
}
