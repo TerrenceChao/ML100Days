{
 "cells": [
  {
   "cell_type": "code",
   "execution_count": 95,
   "metadata": {},
   "outputs": [],
   "source": [
    "import numpy as np"
   ]
  },
  {
   "cell_type": "code",
   "execution_count": 136,
   "metadata": {},
   "outputs": [],
   "source": [
    "english_score = np.array([55,89,76,65,48,70])\n",
    "math_score    = np.array([60,85,60,68,np.nan,60])\n",
    "chinese_score = np.array([65,90,82,72,66,77])"
   ]
  },
  {
   "cell_type": "code",
   "execution_count": 137,
   "metadata": {},
   "outputs": [
    {
     "name": "stdout",
     "output_type": "stream",
     "text": [
      "mean_scores:  [67.2 66.6 75.3]\n",
      "max_scores:  [89, 85.0, 90]\n",
      "min_scores:  [48, 60.0, 65]\n",
      "std_scores:  [13.43399502  9.70772888  8.8254682 ]\n"
     ]
    }
   ],
   "source": [
    "#1. 請計算各科成績平均、最大值、最小值、標準差，其中數學缺一筆資料可忽略?\n",
    "mean_scores = np.nanmean([\n",
    "    english_score,\n",
    "    math_score,\n",
    "    chinese_score\n",
    "], axis = 1,\n",
    "dtype='float16')\n",
    "print('mean_scores: ', mean_scores) # 各科成績平均 en, math, chinese\n",
    "\n",
    "max_scores = [np.nanmax(english_score), np.nanmax(math_score), np.nanmax(chinese_score)]\n",
    "print('max_scores: ', max_scores) # 各科成績最大值 en, math, chinese\n",
    "\n",
    "min_scores = [np.nanmin(english_score), np.nanmin(math_score), np.nanmin(chinese_score)]\n",
    "print('min_scores: ', min_scores) # 各科成績最小值 en, math, chinese\n",
    "\n",
    "std_scores = np.nanstd([\n",
    "    english_score,\n",
    "    math_score,\n",
    "    chinese_score\n",
    "], axis=1)\n",
    "print('std_scores: ', std_scores) # 各科成績標準差 en, math, chinese"
   ]
  },
  {
   "cell_type": "code",
   "execution_count": 138,
   "metadata": {},
   "outputs": [
    {
     "name": "stdout",
     "output_type": "stream",
     "text": [
      "mean_scores:  [67.2 64.7 75.3]\n",
      "max_scores:  [89, 85, 90]\n",
      "min_scores:  [48, 55, 65]\n",
      "std_scores:  [13.43399502  9.86013297  8.8254682 ]\n"
     ]
    }
   ],
   "source": [
    "#2. 第五位同學補考數學後成績為55，請計算補考後數學成績平均、最大值、最小值、標準差?\n",
    "math_score    = np.array([60,85,60,68,55,60])\n",
    "mean_scores = np.mean([\n",
    "    english_score,\n",
    "    math_score,\n",
    "    chinese_score\n",
    "], axis = 1,\n",
    "dtype='float16')\n",
    "print('mean_scores: ', mean_scores) # 各科成績平均 en, math, chinese\n",
    "\n",
    "max_scores = [np.max(english_score), np.max(math_score), np.max(chinese_score)]\n",
    "print('max_scores: ', max_scores) # 各科成績最大值 en, math, chinese\n",
    "\n",
    "min_scores = [np.min(english_score), np.min(math_score), np.min(chinese_score)]\n",
    "print('min_scores: ', min_scores) # 各科成績最小值 en, math, chinese\n",
    "\n",
    "std_scores = np.std([\n",
    "    english_score,\n",
    "    math_score,\n",
    "    chinese_score\n",
    "], axis=1)\n",
    "print('std_scores: ', std_scores) # 各科成績標準差 en, math, chinese"
   ]
  },
  {
   "cell_type": "code",
   "execution_count": 157,
   "metadata": {},
   "outputs": [
    {
     "name": "stdout",
     "output_type": "stream",
     "text": [
      "與國文成績相關係數較高的是 >> 英文\n"
     ]
    }
   ],
   "source": [
    "#3. 用補考後資料找出與國文成績相關係數最高的學科?\n",
    "with_en = np.corrcoef(english_score, chinese_score)\n",
    "with_math = np.corrcoef(math_score, chinese_score)\n",
    "c = np.maximum(with_en, with_math)\n",
    "\n",
    "if np.array_equal(with_en, c):\n",
    "    print('與國文成績相關係數較高的是 >> 英文')\n",
    "else:\n",
    "    print('與國文成績相關係數較高的是 >> 數學')\n",
    "\n",
    "\n",
    "\n",
    "\n",
    "\n",
    "\n"
   ]
  },
  {
   "cell_type": "code",
   "execution_count": 24,
   "metadata": {},
   "outputs": [
    {
     "data": {
      "text/plain": [
       "array([[12., 29., 33., 11., 58., 17.],\n",
       "       [99., 29., 68., 92., 88., nan]])"
      ]
     },
     "execution_count": 24,
     "metadata": {},
     "output_type": "execute_result"
    }
   ],
   "source": [
    "a = [\n",
    "    [ 5, 9,10,11,15,17],\n",
    "    [99,23,68,92,88,float('Nan')]\n",
    "]\n",
    "b = [12,29,33, 7,58,13]\n",
    "\n",
    "# 比較中的元素有 nan 的話，則會回傳 nan。\n",
    "np.maximum(a, b)"
   ]
  },
  {
   "cell_type": "code",
   "execution_count": 26,
   "metadata": {},
   "outputs": [
    {
     "data": {
      "text/plain": [
       "array([[12., 29., 33., 11., 58., 17.],\n",
       "       [99., 29., 68., 92., 88., 13.]])"
      ]
     },
     "execution_count": 26,
     "metadata": {},
     "output_type": "execute_result"
    }
   ],
   "source": [
    "a = [\n",
    "    [ 5, 9,10,11,15,17],\n",
    "    [99,23,68,92,88,float('Nan')]\n",
    "]\n",
    "b = [12,29,33, 7,58,13]\n",
    "\n",
    "# 比較的元素中只有一個是 nan 的話，回傳非 nan 的值，如果兩個元素都是 nan 則回傳 nan\n",
    "np.fmax(a, b)"
   ]
  },
  {
   "cell_type": "code",
   "execution_count": 45,
   "metadata": {},
   "outputs": [
    {
     "data": {
      "text/plain": [
       "array([38.66666667, 20.33333333, 37.        , 36.66666667, 53.66666667,\n",
       "               nan])"
      ]
     },
     "execution_count": 45,
     "metadata": {},
     "output_type": "execute_result"
    }
   ],
   "source": [
    "a = [\n",
    "    [ 5, 9,10,11,15,17],\n",
    "    [99,23,68,92,88,float('Nan')],\n",
    "    [12,29,33, 7,58,13]\n",
    "]\n",
    "\n",
    "# median() 和 nanmedian() 不同的地方在於後者會忽略 nan。如果元素中包含 nan 的話，則 median() 會回傳 nan。\n",
    "np.mean(a, axis=0, dtype='float64')"
   ]
  },
  {
   "cell_type": "code",
   "execution_count": 56,
   "metadata": {},
   "outputs": [
    {
     "data": {
      "text/plain": [
       "array([42.75771535,  8.37987006, 23.84673283, 39.16063783, 29.95923156,\n",
       "               nan])"
      ]
     },
     "execution_count": 56,
     "metadata": {},
     "output_type": "execute_result"
    }
   ],
   "source": [
    "a = [\n",
    "    [ 5, 9,10,11,15,17],\n",
    "    [99,23,68,92,88,float('Nan')],\n",
    "    [12,29,33, 7,58,13]\n",
    "]\n",
    "\n",
    "np.std(a, axis=0)"
   ]
  },
  {
   "cell_type": "code",
   "execution_count": 62,
   "metadata": {},
   "outputs": [
    {
     "data": {
      "text/plain": [
       "array([10185])"
      ]
     },
     "execution_count": 62,
     "metadata": {},
     "output_type": "execute_result"
    }
   ],
   "source": [
    "a = [99,23,68,92,88,26]\n",
    "b = [12,29,33, 7,58,13]\n",
    "\n",
    "np.correlate(a, b, mode='valid')"
   ]
  },
  {
   "cell_type": "code",
   "execution_count": 94,
   "metadata": {},
   "outputs": [
    {
     "data": {
      "text/plain": [
       "array([[ 0.5, -0.5],\n",
       "       [-0.5,  0.5]])"
      ]
     },
     "execution_count": 94,
     "metadata": {},
     "output_type": "execute_result"
    }
   ],
   "source": [
    "a = np.array([1,2])\n",
    "b = np.array([2,1])\n",
    "np.cov(a, b)\n",
    "# np.cov(a, b, bias=True)\n",
    "\n",
    "# np.vstack((a,b))\n",
    "# np.cov(x)"
   ]
  },
  {
   "cell_type": "markdown",
   "metadata": {},
   "source": []
  },
  {
   "cell_type": "code",
   "execution_count": null,
   "metadata": {},
   "outputs": [],
   "source": []
  }
 ],
 "metadata": {
  "kernelspec": {
   "display_name": "Python 3",
   "language": "python",
   "name": "python3"
  },
  "language_info": {
   "codemirror_mode": {
    "name": "ipython",
    "version": 3
   },
   "file_extension": ".py",
   "mimetype": "text/x-python",
   "name": "python",
   "nbconvert_exporter": "python",
   "pygments_lexer": "ipython3",
   "version": "3.8.5"
  }
 },
 "nbformat": 4,
 "nbformat_minor": 4
}
