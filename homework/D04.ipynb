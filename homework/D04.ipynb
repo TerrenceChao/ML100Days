{
 "cells": [
  {
   "cell_type": "code",
   "execution_count": 114,
   "metadata": {},
   "outputs": [],
   "source": [
    "import numpy as np\n",
    "\n",
    "english_score = np.array([55,89,76,65,48,70])\n",
    "math_score    = np.array([60,85,60,68,55,60])\n",
    "chinese_score = np.array([65,90,82,72,66,77])"
   ]
  },
  {
   "cell_type": "code",
   "execution_count": 115,
   "metadata": {},
   "outputs": [
    {
     "name": "stdout",
     "output_type": "stream",
     "text": [
      "[False  True  True False False  True] \n",
      "\n"
     ]
    },
    {
     "data": {
      "text/plain": [
       "3"
      ]
     },
     "execution_count": 115,
     "metadata": {},
     "output_type": "execute_result"
    }
   ],
   "source": [
    "#1.有多少學生英文成績比數學成績高?\n",
    "npary = np.greater(english_score, math_score)\n",
    "print(npary, '\\n')\n",
    "\n",
    "npary2 = npary[npary == True]\n",
    "npary2.size"
   ]
  },
  {
   "cell_type": "code",
   "execution_count": 120,
   "metadata": {},
   "outputs": [
    {
     "name": "stdout",
     "output_type": "stream",
     "text": [
      "[60 89 76 68 55 70] \n",
      "\n",
      "[65 90 82 72 66 77] \n",
      "\n"
     ]
    },
    {
     "data": {
      "text/plain": [
       "True"
      ]
     },
     "execution_count": 120,
     "metadata": {},
     "output_type": "execute_result"
    }
   ],
   "source": [
    "#2.是否全班同學最高分都是國文?\n",
    "max_ary = np.maximum(\n",
    "    english_score,\n",
    "    math_score\n",
    ")\n",
    "print(max_ary, '\\n')\n",
    "\n",
    "max_ary = np.maximum(\n",
    "    max_ary,\n",
    "    chinese_score\n",
    ")\n",
    "print(max_ary, '\\n')\n",
    "\n",
    "np.array_equal(max_ary, chinese_score)"
   ]
  },
  {
   "cell_type": "code",
   "execution_count": 121,
   "metadata": {},
   "outputs": [
    {
     "data": {
      "text/plain": [
       "array([[ True,  True, False],\n",
       "       [ True, False,  True]])"
      ]
     },
     "execution_count": 121,
     "metadata": {},
     "output_type": "execute_result"
    }
   ],
   "source": [
    "np.all([\n",
    "    [\n",
    "        [-1, 4, 0], \n",
    "        [3, 4, 1], \n",
    "    ],\n",
    "    [\n",
    "        [3, 4, 1],\n",
    "        [3, 0, 1], \n",
    "    ],\n",
    "], axis = 0)"
   ]
  },
  {
   "cell_type": "code",
   "execution_count": 122,
   "metadata": {},
   "outputs": [
    {
     "data": {
      "text/plain": [
       "array([[ True,  True, False],\n",
       "       [ True, False,  True]])"
      ]
     },
     "execution_count": 122,
     "metadata": {},
     "output_type": "execute_result"
    }
   ],
   "source": [
    "np.all([\n",
    "    [\n",
    "        [-1, 4, 0], \n",
    "        [3, 4, 1], \n",
    "    ],\n",
    "    [\n",
    "        [3, 4, 1],\n",
    "        [3, 0, 1], \n",
    "    ],\n",
    "], axis = 1)"
   ]
  },
  {
   "cell_type": "code",
   "execution_count": 123,
   "metadata": {},
   "outputs": [
    {
     "data": {
      "text/plain": [
       "array([[False,  True],\n",
       "       [ True, False]])"
      ]
     },
     "execution_count": 123,
     "metadata": {},
     "output_type": "execute_result"
    }
   ],
   "source": [
    "np.all([\n",
    "    [\n",
    "        [-1, 4, 0], \n",
    "        [3, 4, 1], \n",
    "    ],\n",
    "    [\n",
    "        [3, 4, 1],\n",
    "        [3, 0, 1], \n",
    "    ],\n",
    "], axis = 2)"
   ]
  }
 ],
 "metadata": {
  "kernelspec": {
   "display_name": "Python 3",
   "language": "python",
   "name": "python3"
  },
  "language_info": {
   "codemirror_mode": {
    "name": "ipython",
    "version": 3
   },
   "file_extension": ".py",
   "mimetype": "text/x-python",
   "name": "python",
   "nbconvert_exporter": "python",
   "pygments_lexer": "ipython3",
   "version": "3.8.5"
  }
 },
 "nbformat": 4,
 "nbformat_minor": 4
}
